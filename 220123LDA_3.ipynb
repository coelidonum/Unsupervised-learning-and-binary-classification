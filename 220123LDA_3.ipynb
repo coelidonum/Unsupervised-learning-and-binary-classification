{
  "cells": [
    {
      "cell_type": "code",
      "execution_count": null,
      "metadata": {
        "id": "AJ9fTStq6-rm"
      },
      "outputs": [],
      "source": [
        "\n",
        "\n",
        "import pandas as pd\n",
        "import regex as re\n",
        "import os"
      ]
    },
    {
      "cell_type": "code",
      "execution_count": null,
      "metadata": {
        "id": "45kwJ49e7MXI"
      },
      "outputs": [],
      "source": [
        "df=pd.read_excel('/content/BeyondBlue_220123.xlsx')\n",
        "#df=pd.read_csv('/content/export_QuickSearch_n3giAlMH.csv')\n",
        "#df=df.loc[df.lang==\"it\"]"
      ]
    },
    {
      "cell_type": "code",
      "execution_count": null,
      "metadata": {
        "id": "e7LiBrajlAnB",
        "colab": {
          "base_uri": "https://localhost:8080/"
        },
        "outputId": "14800057-0b6e-4d9c-efa3-a6d82c498b2f"
      },
      "outputs": [
        {
          "output_type": "execute_result",
          "data": {
            "text/plain": [
              "14739"
            ]
          },
          "metadata": {},
          "execution_count": 3
        }
      ],
      "source": [
        "len(df)"
      ]
    },
    {
      "cell_type": "code",
      "execution_count": null,
      "metadata": {
        "id": "ihYveFmHlH8g",
        "colab": {
          "base_uri": "https://localhost:8080/",
          "height": 206
        },
        "outputId": "6afadd34-448d-4b4f-df3b-2a7d1d1341fe"
      },
      "outputs": [
        {
          "output_type": "execute_result",
          "data": {
            "text/plain": [
              "   Unnamed: 0                                                  0 Category\n",
              "0           1             Safety planning involves creating a...  Suicide\n",
              "1           2             Life gets pretty hard sometimes and...  Suicide\n",
              "2           3             I feel like I have heaps of people ...  Suicide\n",
              "3           4             i'm having such a hard time lately....  Suicide\n",
              "4           5             I just need to write down how I’m f...  Suicide"
            ],
            "text/html": [
              "\n",
              "  <div id=\"df-3602e815-b5e1-46fb-9b85-d007e9bc5fbb\">\n",
              "    <div class=\"colab-df-container\">\n",
              "      <div>\n",
              "<style scoped>\n",
              "    .dataframe tbody tr th:only-of-type {\n",
              "        vertical-align: middle;\n",
              "    }\n",
              "\n",
              "    .dataframe tbody tr th {\n",
              "        vertical-align: top;\n",
              "    }\n",
              "\n",
              "    .dataframe thead th {\n",
              "        text-align: right;\n",
              "    }\n",
              "</style>\n",
              "<table border=\"1\" class=\"dataframe\">\n",
              "  <thead>\n",
              "    <tr style=\"text-align: right;\">\n",
              "      <th></th>\n",
              "      <th>Unnamed: 0</th>\n",
              "      <th>0</th>\n",
              "      <th>Category</th>\n",
              "    </tr>\n",
              "  </thead>\n",
              "  <tbody>\n",
              "    <tr>\n",
              "      <th>0</th>\n",
              "      <td>1</td>\n",
              "      <td>Safety planning involves creating a...</td>\n",
              "      <td>Suicide</td>\n",
              "    </tr>\n",
              "    <tr>\n",
              "      <th>1</th>\n",
              "      <td>2</td>\n",
              "      <td>Life gets pretty hard sometimes and...</td>\n",
              "      <td>Suicide</td>\n",
              "    </tr>\n",
              "    <tr>\n",
              "      <th>2</th>\n",
              "      <td>3</td>\n",
              "      <td>I feel like I have heaps of people ...</td>\n",
              "      <td>Suicide</td>\n",
              "    </tr>\n",
              "    <tr>\n",
              "      <th>3</th>\n",
              "      <td>4</td>\n",
              "      <td>i'm having such a hard time lately....</td>\n",
              "      <td>Suicide</td>\n",
              "    </tr>\n",
              "    <tr>\n",
              "      <th>4</th>\n",
              "      <td>5</td>\n",
              "      <td>I just need to write down how I’m f...</td>\n",
              "      <td>Suicide</td>\n",
              "    </tr>\n",
              "  </tbody>\n",
              "</table>\n",
              "</div>\n",
              "      <button class=\"colab-df-convert\" onclick=\"convertToInteractive('df-3602e815-b5e1-46fb-9b85-d007e9bc5fbb')\"\n",
              "              title=\"Convert this dataframe to an interactive table.\"\n",
              "              style=\"display:none;\">\n",
              "        \n",
              "  <svg xmlns=\"http://www.w3.org/2000/svg\" height=\"24px\"viewBox=\"0 0 24 24\"\n",
              "       width=\"24px\">\n",
              "    <path d=\"M0 0h24v24H0V0z\" fill=\"none\"/>\n",
              "    <path d=\"M18.56 5.44l.94 2.06.94-2.06 2.06-.94-2.06-.94-.94-2.06-.94 2.06-2.06.94zm-11 1L8.5 8.5l.94-2.06 2.06-.94-2.06-.94L8.5 2.5l-.94 2.06-2.06.94zm10 10l.94 2.06.94-2.06 2.06-.94-2.06-.94-.94-2.06-.94 2.06-2.06.94z\"/><path d=\"M17.41 7.96l-1.37-1.37c-.4-.4-.92-.59-1.43-.59-.52 0-1.04.2-1.43.59L10.3 9.45l-7.72 7.72c-.78.78-.78 2.05 0 2.83L4 21.41c.39.39.9.59 1.41.59.51 0 1.02-.2 1.41-.59l7.78-7.78 2.81-2.81c.8-.78.8-2.07 0-2.86zM5.41 20L4 18.59l7.72-7.72 1.47 1.35L5.41 20z\"/>\n",
              "  </svg>\n",
              "      </button>\n",
              "      \n",
              "  <style>\n",
              "    .colab-df-container {\n",
              "      display:flex;\n",
              "      flex-wrap:wrap;\n",
              "      gap: 12px;\n",
              "    }\n",
              "\n",
              "    .colab-df-convert {\n",
              "      background-color: #E8F0FE;\n",
              "      border: none;\n",
              "      border-radius: 50%;\n",
              "      cursor: pointer;\n",
              "      display: none;\n",
              "      fill: #1967D2;\n",
              "      height: 32px;\n",
              "      padding: 0 0 0 0;\n",
              "      width: 32px;\n",
              "    }\n",
              "\n",
              "    .colab-df-convert:hover {\n",
              "      background-color: #E2EBFA;\n",
              "      box-shadow: 0px 1px 2px rgba(60, 64, 67, 0.3), 0px 1px 3px 1px rgba(60, 64, 67, 0.15);\n",
              "      fill: #174EA6;\n",
              "    }\n",
              "\n",
              "    [theme=dark] .colab-df-convert {\n",
              "      background-color: #3B4455;\n",
              "      fill: #D2E3FC;\n",
              "    }\n",
              "\n",
              "    [theme=dark] .colab-df-convert:hover {\n",
              "      background-color: #434B5C;\n",
              "      box-shadow: 0px 1px 3px 1px rgba(0, 0, 0, 0.15);\n",
              "      filter: drop-shadow(0px 1px 2px rgba(0, 0, 0, 0.3));\n",
              "      fill: #FFFFFF;\n",
              "    }\n",
              "  </style>\n",
              "\n",
              "      <script>\n",
              "        const buttonEl =\n",
              "          document.querySelector('#df-3602e815-b5e1-46fb-9b85-d007e9bc5fbb button.colab-df-convert');\n",
              "        buttonEl.style.display =\n",
              "          google.colab.kernel.accessAllowed ? 'block' : 'none';\n",
              "\n",
              "        async function convertToInteractive(key) {\n",
              "          const element = document.querySelector('#df-3602e815-b5e1-46fb-9b85-d007e9bc5fbb');\n",
              "          const dataTable =\n",
              "            await google.colab.kernel.invokeFunction('convertToInteractive',\n",
              "                                                     [key], {});\n",
              "          if (!dataTable) return;\n",
              "\n",
              "          const docLinkHtml = 'Like what you see? Visit the ' +\n",
              "            '<a target=\"_blank\" href=https://colab.research.google.com/notebooks/data_table.ipynb>data table notebook</a>'\n",
              "            + ' to learn more about interactive tables.';\n",
              "          element.innerHTML = '';\n",
              "          dataTable['output_type'] = 'display_data';\n",
              "          await google.colab.output.renderOutput(dataTable, element);\n",
              "          const docLink = document.createElement('div');\n",
              "          docLink.innerHTML = docLinkHtml;\n",
              "          element.appendChild(docLink);\n",
              "        }\n",
              "      </script>\n",
              "    </div>\n",
              "  </div>\n",
              "  "
            ]
          },
          "metadata": {},
          "execution_count": 4
        }
      ],
      "source": [
        "df.head()"
      ]
    },
    {
      "cell_type": "markdown",
      "metadata": {
        "id": "2CfUnymh7f22"
      },
      "source": [
        "Preprocessing"
      ]
    },
    {
      "cell_type": "code",
      "execution_count": null,
      "metadata": {
        "id": "7lKvV_bg7f25"
      },
      "outputs": [],
      "source": [
        "for i in list(df.columns):\n",
        "  i=str(i)\n",
        "  if 'Unnamed' in i:\n",
        "    df.drop(columns=i, inplace=True)\n"
      ]
    },
    {
      "cell_type": "code",
      "source": [
        "#df['text']=df['title'].astype(str) + df['content'].astype(str)"
      ],
      "metadata": {
        "id": "s-aR2sR7uIVo"
      },
      "execution_count": null,
      "outputs": []
    },
    {
      "cell_type": "code",
      "execution_count": null,
      "metadata": {
        "id": "2dv9-KSg7f26"
      },
      "outputs": [],
      "source": [
        "df.rename(columns={0:'text'}, inplace=True)"
      ]
    },
    {
      "cell_type": "code",
      "execution_count": null,
      "metadata": {
        "id": "6HuiKVwn7f26"
      },
      "outputs": [],
      "source": [
        "df['text']=df['text'].astype(str)"
      ]
    },
    {
      "cell_type": "code",
      "execution_count": null,
      "metadata": {
        "id": "uURJpt1u7f26",
        "colab": {
          "base_uri": "https://localhost:8080/"
        },
        "outputId": "0def0241-3bee-42eb-c596-9da88929e249"
      },
      "outputs": [
        {
          "output_type": "stream",
          "name": "stderr",
          "text": [
            "<ipython-input-9-ee58f0ff55b4>:29: FutureWarning: The default value of regex will change from True to False in a future version.\n",
            "  df['text_processed'] = df['text_processed'].str.replace('[^\\dA-Za-z]', ' ')\n"
          ]
        }
      ],
      "source": [
        "# Trasformazione in lower-case\n",
        "df['text_processed'] = df['text'].map(lambda x: x.lower())\n",
        "\n",
        "# Rimozione indirizzi email\n",
        "df['text_processed'] = df['text_processed'].apply(lambda x: re.sub('\\w+@\\w+\\.\\w+?', '', x))\n",
        "\n",
        "# Rimozione numeri\n",
        "df['text_processed'] = df['text_processed'].apply(lambda x: re.sub('\\d','', x))\n",
        "\n",
        "# Rimozione della punteggiatura\n",
        "df['text_processed']  = df['text_processed'].apply(lambda x: re.sub(r'[^\\w\\s]','', x))\n",
        "\n",
        "# Rimozione parole composte\n",
        "df['text_processed']  = df['text_processed'].astype(str).map(lambda x: re.sub(r'\\b\\w{1,2}\\b', '', x))\n",
        "\n",
        "# Rimozione spazi\n",
        "df['text_processed'] = df['text_processed'].map(lambda x: re.sub(' +', ' ', x))\n",
        "\n",
        "#rimozione spazi di inizio riga\n",
        "df['text_processed'] = df['text_processed'].map(lambda x: x.lstrip()) \n",
        "\n",
        "#rimozione spazi di fine riga\n",
        "df['text_processed'] = df['text_processed'].map(lambda x: x.rstrip()) \n",
        "\n",
        "list_special=['#','@','&', '','ü','í','ï','Ä','ú','Ä','ô', 'nan', '–', '¥', 'æ','º','∞','¬','Æ', 'ù','§','Ô','∏', '•','∫', '√','≈', '°', 'ò','≠' ]\n",
        "for i in list_special:\n",
        "  df['text_processed'] = df['text_processed'].str.replace( i ,'')\n",
        "\n",
        "df['text_processed'] = df['text_processed'].str.replace('[^\\dA-Za-z]', ' ')\n",
        "\n",
        "df['text_processed'] = df['text_processed'].str.replace('Updated', '')\n",
        "df['text_processed'] = df['text_processed'].str.replace('UPDATED', '')\n",
        "\n",
        "df['text_processed'] = df['text_processed'].str.replace('CDT', '')\n",
        "df['text_processed'] = df['text_processed'].str.replace('EST', '')\n",
        "df['text_processed'] = df['text_processed'].str.replace('EDT', '')\n",
        "\n",
        "df['text_processed'] = df['text_processed'].str.replace('cdt', '')\n",
        "df['text_processed'] = df['text_processed'].str.replace('est', '')\n",
        "df['text_processed'] = df['text_processed'].str.replace('est', '')\n",
        "\n"
      ]
    },
    {
      "cell_type": "code",
      "execution_count": null,
      "metadata": {
        "id": "FzdEYxNT7f27"
      },
      "outputs": [],
      "source": [
        "# df.sentiment=df.sentiment.astype(str)\n",
        "# df.sentiment=df.sentiment.str.replace(\"-5\", \"Negative\")\n",
        "\n",
        "# df.sentiment=df.sentiment.str.replace(\"5\", \"Positive\")\n",
        "# df.sentiment=df.sentiment.str.replace(\"0\", \"Neutral\")"
      ]
    },
    {
      "cell_type": "code",
      "execution_count": null,
      "metadata": {
        "id": "Od3GvEZZ7f27"
      },
      "outputs": [],
      "source": [
        "# df['target']=df['sentiment'].copy()"
      ]
    },
    {
      "cell_type": "code",
      "execution_count": null,
      "metadata": {
        "id": "ETBLb2_lmHU9"
      },
      "outputs": [],
      "source": [
        "#PREPROCESSING - LDA requires some basic pre-processing of text data\n",
        "def tokenize_lemma_stopwords(text):\n",
        "  tokens = nltk.tokenize.word_tokenize(text.lower())\n",
        "# split string into words (tokens)\n",
        "  tokens = [t for t in tokens if t.isalpha()]\n",
        "# keep strings with only alphabets\n",
        "  tokens = [wordnet_lemmatizer.lemmatize(t) for t in tokens]\n",
        "# put words into base form\n",
        "  tokens = [stemmer.stem(t) for t in tokens]\n",
        "  tokens = [t for t in tokens if len(t) > 2]\n",
        "# remove short words, they're probably not useful\n",
        "  tokens = [t for t in tokens if t not in stopwords]\n",
        "# remove stopwords\n",
        "  return tokens"
      ]
    },
    {
      "cell_type": "code",
      "source": [
        "\n",
        "import nltk\n",
        "from nltk import word_tokenize\n",
        "from nltk.tokenize import word_tokenize\n",
        "from nltk.corpus import stopwords, wordnet\n",
        "from nltk.stem import WordNetLemmatizer"
      ],
      "metadata": {
        "id": "C2qbvIFrCoDC"
      },
      "execution_count": null,
      "outputs": []
    },
    {
      "cell_type": "code",
      "source": [
        "import nltk\n",
        "nltk.download('wordnet')\n",
        "nltk.download('omw-1.4')"
      ],
      "metadata": {
        "colab": {
          "base_uri": "https://localhost:8080/"
        },
        "id": "hL8faLXkDgBb",
        "outputId": "b740d8bd-d107-4c38-a3de-b5c69a5c7797"
      },
      "execution_count": null,
      "outputs": [
        {
          "output_type": "stream",
          "name": "stderr",
          "text": [
            "[nltk_data] Downloading package wordnet to /root/nltk_data...\n",
            "[nltk_data] Downloading package omw-1.4 to /root/nltk_data...\n"
          ]
        },
        {
          "output_type": "execute_result",
          "data": {
            "text/plain": [
              "True"
            ]
          },
          "metadata": {},
          "execution_count": 14
        }
      ]
    },
    {
      "cell_type": "code",
      "source": [
        "\n",
        "tok_ = nltk.tokenize.WhitespaceTokenizer()\n",
        "lemm_ = nltk.stem.WordNetLemmatizer()\n",
        "\n",
        "def lemmatize_text_verb(text):\n",
        "    return [lemm_.lemmatize(w,'v') for w in tok_.tokenize(text)]\n",
        "def lemmatize_text_adj(text):\n",
        "    return [lemm_.lemmatize(w, 'a') for w in text]\n",
        "def lemmatize_text(text):\n",
        "    return [lemm_.lemmatize(w) for w in text]\n",
        "\n",
        "df['text_processed'] = df['text_processed'].apply(lemmatize_text_verb).apply(lemmatize_text_adj).apply(lemmatize_text)"
      ],
      "metadata": {
        "id": "MPx1ToirDVve"
      },
      "execution_count": null,
      "outputs": []
    },
    {
      "cell_type": "code",
      "source": [
        "\n",
        "df['text_processed']"
      ],
      "metadata": {
        "colab": {
          "base_uri": "https://localhost:8080/"
        },
        "id": "cYAcLioOCkm0",
        "outputId": "34c9a569-229c-44b5-8d3d-a77f0d405d44"
      },
      "execution_count": null,
      "outputs": [
        {
          "output_type": "execute_result",
          "data": {
            "text/plain": [
              "0        [safety, plan, involve, create, structure, pla...\n",
              "1        [life, get, pretty, hard, sometimes, and, many...\n",
              "2        [feel, like, have, heap, people, around, for, ...\n",
              "3        [have, such, hard, time, lately, have, some, p...\n",
              "4        [just, need, write, down, how, feel, exhaust, ...\n",
              "                               ...                        \n",
              "14734    [last, year, husband, be, diagnose, with, ptsd...\n",
              "14735    [be, recently, involve, traumatic, situation, ...\n",
              "14736    [the, outside, everyone, think, be, the, perfe...\n",
              "14737    [new, this, and, really, dont, know, what, do,...\n",
              "14738    [just, want, say, hello, strugging, with, life...\n",
              "Name: text_processed, Length: 14739, dtype: object"
            ]
          },
          "metadata": {},
          "execution_count": 16
        }
      ]
    },
    {
      "cell_type": "markdown",
      "metadata": {
        "id": "j69ipcmb8anp"
      },
      "source": [
        "Prepare data for LDA Analysis\n"
      ]
    },
    {
      "cell_type": "code",
      "execution_count": null,
      "metadata": {
        "id": "AeUdIS6u8YPD",
        "colab": {
          "base_uri": "https://localhost:8080/"
        },
        "outputId": "bd28864a-7318-4b49-ce9e-ab8ab79070fc"
      },
      "outputs": [
        {
          "output_type": "stream",
          "name": "stderr",
          "text": [
            "[nltk_data] Downloading package stopwords to /root/nltk_data...\n",
            "[nltk_data]   Unzipping corpora/stopwords.zip.\n"
          ]
        }
      ],
      "source": [
        "import gensim\n",
        "from gensim.utils import simple_preprocess\n",
        "import nltk\n",
        "nltk.download('stopwords')\n",
        "from nltk.corpus import stopwords\n",
        "stop_words = stopwords.words('english')\n",
        "stop_words.extend(['from', 'subject', 're', 'edu', 'use', 'updated' ,'updated edt','updated cst','updated cdt'])\n",
        "def sent_to_words(sentences):\n",
        "    for sentence in sentences:\n",
        "        # deacc=True removes punctuations\n",
        "        yield(gensim.utils.simple_preprocess(str(sentence), deacc=True))\n",
        "def remove_stopwords(texts):\n",
        "    return [[word for word in simple_preprocess(str(doc)) \n",
        "             if word not in stop_words] for doc in texts]\n",
        "\n",
        "\n",
        "\n",
        "\n"
      ]
    },
    {
      "cell_type": "code",
      "source": [
        "data = df.text_processed.values.tolist()\n",
        "data_words = list(sent_to_words(data))"
      ],
      "metadata": {
        "id": "neovD2MKEKmq"
      },
      "execution_count": null,
      "outputs": []
    },
    {
      "cell_type": "code",
      "source": [
        "\n",
        "# remove stop words\n",
        "data_words = remove_stopwords(data_words)\n",
        "print(data_words[:1][0][:30])\n"
      ],
      "metadata": {
        "colab": {
          "base_uri": "https://localhost:8080/"
        },
        "id": "abysVwIjEBmK",
        "outputId": "cf7204fb-6e78-4995-c1a2-2e7bf0175759"
      },
      "execution_count": null,
      "outputs": [
        {
          "output_type": "stream",
          "name": "stdout",
          "text": [
            "['safety', 'plan', 'involve', 'create', 'structure', 'plan', 'ideally', 'support', 'health', 'professional', 'someone', 'trust', 'work', 'youre', 'experience', 'suicidal', 'thought', 'feel', 'distress', 'crisis', 'safety', 'plan', 'start', 'thing', 'think', 'reason', 'live', 'distract', 'enjoyable', 'activity']\n"
          ]
        }
      ]
    },
    {
      "cell_type": "code",
      "source": [
        "# Import the wordcloud library\n",
        "from wordcloud import WordCloud\n",
        "# Join the different processed titles together.\n",
        "#long_string = ','.join(list(df['text_processed'].values))\n",
        "long_string = ','.join(str(v) for v in list(df['text_processed'].values))\n",
        "long_string=long_string.replace(\"'\",\"\")\n",
        "# Create a WordCloud object\n",
        "wordcloud = WordCloud(background_color=\"white\", max_words=300, contour_width=3, contour_color='steelblue')\n",
        "# Generate a word cloud\n",
        "wordcloud.generate(long_string)\n",
        "# Visualize the word cloud\n",
        "wordcloud.to_image()"
      ],
      "metadata": {
        "colab": {
          "base_uri": "https://localhost:8080/",
          "height": 217
        },
        "id": "ck9WbTlyvnDM",
        "outputId": "6c8811c6-d169-41a3-9c6b-f52ff44c5758"
      },
      "execution_count": null,
      "outputs": [
        {
          "output_type": "execute_result",
          "data": {
            "text/plain": [
              "<PIL.Image.Image image mode=RGB size=400x200 at 0x7F740EDFFA60>"
            ],
            "image/png": "[encoded data removed]"
          },
          "metadata": {},
          "execution_count": 21
        }
      ]
    },
    {
      "cell_type": "markdown",
      "source": [
        "Measures "
      ],
      "metadata": {
        "id": "ktM6890lFCjx"
      }
    },
    {
      "cell_type": "code",
      "source": [
        "df.text_processed=df.text_processed.astype(str)"
      ],
      "metadata": {
        "id": "RLICCrzHFNml"
      },
      "execution_count": null,
      "outputs": []
    },
    {
      "cell_type": "code",
      "source": [
        "\n",
        "\n",
        "\n",
        "from gensim.corpora import Dictionary\n",
        "from gensim.models import LdaModel\n",
        "from gensim.models.coherencemodel import CoherenceModel\n",
        "\n",
        "# create a dictionary from the processed text\n",
        "dictionary = Dictionary(df.text_processed.str.split())\n",
        "id2word=dictionary\n",
        "\n",
        "# convert the processed text into a list of lists of word indices\n",
        "corpus = [dictionary.doc2bow(text) for text in df.text_processed.str.split()]\n",
        "\n",
        "\n",
        "for i in range(2,5):\n",
        "  # train your LDA model using the corpus\n",
        "  lda = LdaModel(corpus, id2word=dictionary, num_topics=i, iterations=30, passes=5)\n",
        "\n",
        "# calculate perplexity\n",
        "  perplexity = lda.log_perplexity(corpus)\n",
        "\n",
        "# calculate coherence\n",
        "  cm = CoherenceModel(model=lda, texts=df.text_processed.str.split(), dictionary=dictionary, coherence='c_v')\n",
        "  coherence = cm.get_coherence()\n",
        "  print(i)\n",
        "  print(\"Perplexity:\", 2.71828**perplexity)\n",
        "  print(\"Coherence:\", coherence)\n",
        "  print(\" \")\n",
        "\n"
      ],
      "metadata": {
        "colab": {
          "base_uri": "https://localhost:8080/"
        },
        "id": "1X7ufKoWFFWT",
        "outputId": "ccf035a5-d3f7-4ae1-9ccc-c0b210a75b45"
      },
      "execution_count": null,
      "outputs": [
        {
          "output_type": "stream",
          "name": "stdout",
          "text": [
            "2\n",
            "Perplexity: 0.0014294849092411595\n",
            "Coherence: 0.26733668109321196\n",
            " \n",
            "3\n",
            "Perplexity: 0.0014570991336323126\n",
            "Coherence: 0.2733067978633167\n",
            " \n",
            "4\n",
            "Perplexity: 0.0014413730787002615\n",
            "Coherence: 0.26839138954548325\n",
            " \n"
          ]
        }
      ]
    },
    {
      "cell_type": "code",
      "source": [
        "import numpy as np\n",
        "print(np.log(0.001))\n",
        "print(np.log(0.5))\n",
        "print(np.log(0.999))"
      ],
      "metadata": {
        "id": "XpwGMm8iJrcY"
      },
      "execution_count": null,
      "outputs": []
    },
    {
      "cell_type": "markdown",
      "metadata": {
        "id": "PKw1WQyu9m8s"
      },
      "source": [
        "LDA model training\n"
      ]
    },
    {
      "cell_type": "code",
      "execution_count": null,
      "metadata": {
        "id": "fKfv3rHM9nUT"
      },
      "outputs": [],
      "source": [
        "from pprint import pprint\n",
        "# number of topics\n",
        "num_topics = 3\n",
        "# Build LDA model\n",
        "lda_model = gensim.models.LdaMulticore(corpus=corpus,\n",
        "                                       id2word=id2word,\n",
        "                                       num_topics=num_topics)\n",
        "# Print the Keyword in the 10 topics\n",
        "pprint(lda_model.print_topics())\n",
        "doc_lda = lda_model[corpus]"
      ]
    },
    {
      "cell_type": "markdown",
      "metadata": {
        "id": "RveXZU6X9uwW"
      },
      "source": [
        "Analyzing LDA model results\n"
      ]
    },
    {
      "cell_type": "code",
      "execution_count": null,
      "metadata": {
        "id": "XunK8c4lBwLY"
      },
      "outputs": [],
      "source": [
        "! pip install pyLDAvis"
      ]
    },
    {
      "cell_type": "code",
      "execution_count": null,
      "metadata": {
        "id": "IjXsrtwpBo5i"
      },
      "outputs": [],
      "source": [
        "import pickle \n",
        "import pyLDAvis\n",
        "import pickle \n",
        "import pyLDAvis"
      ]
    },
    {
      "cell_type": "code",
      "execution_count": null,
      "metadata": {
        "id": "7SvKFT5jDUni"
      },
      "outputs": [],
      "source": [
        "from pyLDAvis import *"
      ]
    },
    {
      "cell_type": "code",
      "execution_count": null,
      "metadata": {
        "id": "frAoxgjsC7rR"
      },
      "outputs": [],
      "source": [
        "import gensim"
      ]
    },
    {
      "cell_type": "code",
      "execution_count": null,
      "metadata": {
        "id": "amvB_73gF2Yw"
      },
      "outputs": [],
      "source": [
        "import gensim\n",
        "import gensim.corpora as corpora\n",
        "from gensim.utils import simple_preprocess\n",
        "from gensim.models import CoherenceModel\n",
        "import spacy\n",
        "! pip install pyLDAvis\n",
        "import pyLDAvis\n",
        "! pip install -U gensim\n",
        "\n",
        "\n",
        "import gensim \n",
        "import matplotlib.pyplot as plt\n",
        "%matplotlib inline\n",
        "import logging\n",
        "logging.basicConfig(format='%(asctime)s : %(levelname)s : %(message)s', level=logging.ERROR)\n",
        "import warnings\n",
        "warnings.filterwarnings(\"ignore\",category=DeprecationWarning)\n",
        "import re, nltk, spacy, gensim\n",
        "# Sklearn\n",
        "from sklearn.decomposition import LatentDirichletAllocation, TruncatedSVD\n",
        "from sklearn.feature_extraction.text import CountVectorizer, TfidfVectorizer\n",
        "from sklearn.model_selection import GridSearchCV\n",
        "from pprint import pprint\n",
        "\n",
        "! pip install pyLDAvis\n",
        "import pyLDAvis\n",
        "import pyLDAvis.sklearn\n"
      ]
    },
    {
      "cell_type": "code",
      "execution_count": null,
      "metadata": {
        "id": "8nBMRMf7IMfP"
      },
      "outputs": [],
      "source": [
        "import pyLDAvis.gensim_models as gensimvis\n"
      ]
    },
    {
      "cell_type": "code",
      "execution_count": null,
      "metadata": {
        "id": "YqAeHTohI2_I"
      },
      "outputs": [],
      "source": [
        "import os"
      ]
    },
    {
      "cell_type": "code",
      "execution_count": null,
      "metadata": {
        "id": "Z97Za6Q1KfCm"
      },
      "outputs": [],
      "source": [
        "\n",
        "# Visualize the topics\n",
        "pyLDAvis.enable_notebook()"
      ]
    },
    {
      "cell_type": "code",
      "execution_count": null,
      "metadata": {
        "id": "iS4TOOoBNfbV"
      },
      "outputs": [],
      "source": [
        "pyLDAvis.enable_notebook()\n",
        "LDAvis_data_filepath = os.path.join('./ldavis_prepared_'+str(num_topics))"
      ]
    },
    {
      "cell_type": "code",
      "execution_count": null,
      "metadata": {
        "id": "h4Cu1972KlYx"
      },
      "outputs": [],
      "source": [
        "LDAvis_data_filepath\n"
      ]
    },
    {
      "cell_type": "code",
      "execution_count": null,
      "metadata": {
        "id": "5ElC8tStKqXf"
      },
      "outputs": [],
      "source": [
        "# # this is a bit time consuming - make the if statement True\n",
        "# # if you want to execute visualization prep yourself\n",
        "if 1 == 1:\n",
        "    LDAvis_prepared = pyLDAvis.gensim_models.prepare(lda_model, corpus, id2word)\n",
        "    with open(LDAvis_data_filepath, 'wb') as f:\n",
        "        pickle.dump(LDAvis_prepared, f)"
      ]
    },
    {
      "cell_type": "code",
      "execution_count": null,
      "metadata": {
        "id": "6bYJVny5OK9R"
      },
      "outputs": [],
      "source": [
        "# load the pre-prepared pyLDAvis data from disk\n",
        "with open(LDAvis_data_filepath, 'rb') as f:\n",
        "    LDAvis_prepared = pickle.load(f)\n",
        "pyLDAvis.save_html(LDAvis_prepared, './ldavis_prepared_'+ str(num_topics) +'.html')\n",
        "LDAvis_prepared"
      ]
    },
    {
      "cell_type": "code",
      "source": [],
      "metadata": {
        "id": "7L-CUprSzH-s"
      },
      "execution_count": null,
      "outputs": []
    },
    {
      "cell_type": "code",
      "source": [
        "print(np.log(-7))"
      ],
      "metadata": {
        "id": "5fzAZtHg6pXu"
      },
      "execution_count": null,
      "outputs": []
    },
    {
      "cell_type": "markdown",
      "metadata": {
        "id": "ejBSpMypeWbq"
      },
      "source": [
        "Outputting the dominant topic for each text¶\n"
      ]
    },
    {
      "cell_type": "code",
      "execution_count": null,
      "metadata": {
        "id": "ZuMnnEZajB_o"
      },
      "outputs": [],
      "source": [
        "df.columns"
      ]
    },
    {
      "cell_type": "code",
      "execution_count": null,
      "metadata": {
        "id": "2shYW-wCeXHo"
      },
      "outputs": [],
      "source": [
        "\n",
        "def format_topics_sentences(ldamodel=lda_model, corpus=corpus, texts=data):\n",
        "    # Init output\n",
        "    sent_topics_df = pd.DataFrame()\n",
        "    \n",
        "    # Get main topic in each document\n",
        "    for i, row in enumerate(ldamodel[corpus]):\n",
        "        row = sorted(row, key=lambda x: (x[1]), reverse=True)\n",
        "        # Get the Dominant topic, Perc Contribution and Keywords for each document\n",
        "        for j, (topic_num, prop_topic) in enumerate(row):\n",
        "            if j == 0:  # => dominant topic\n",
        "                wp = ldamodel.show_topic(topic_num)\n",
        "                topic_keywords = \", \".join([word for word, prop in wp])\n",
        "                sent_topics_df = sent_topics_df.append(pd.Series([int(topic_num), round(prop_topic,4), topic_keywords]), ignore_index=True)\n",
        "            else:\n",
        "                break\n",
        "    sent_topics_df.columns = ['Dominant_Topic', 'Perc_Contribution', 'Topic_Keywords']\n",
        "\n",
        "    # Add original text to the end of the output\n",
        "    contents = pd.Series(texts)\n",
        "    sent_topics_df = pd.concat([sent_topics_df, contents], axis=1)\n",
        "    return(sent_topics_df)\n",
        "\n",
        "\n",
        "df_topic_sents_keywords = format_topics_sentences(ldamodel=lda_model, corpus=corpus, texts=data)\n",
        "\n"
      ]
    },
    {
      "cell_type": "code",
      "execution_count": null,
      "metadata": {
        "id": "MbZhv9-NIkim"
      },
      "outputs": [],
      "source": [
        "df_topic_sents_keywords"
      ]
    },
    {
      "cell_type": "markdown",
      "metadata": {
        "id": "4MgN0RFknG6P"
      },
      "source": [
        "Rappresenta le prime parole per ogni cluster"
      ]
    },
    {
      "cell_type": "code",
      "execution_count": null,
      "metadata": {
        "id": "sMf9ZKM8JKCq"
      },
      "outputs": [],
      "source": [
        "#df=pd.read_excel('/content/ferrero_LDA.xlsx')\n",
        "#df=df.loc[~(df.lang==\"it\")]"
      ]
    },
    {
      "cell_type": "code",
      "execution_count": null,
      "metadata": {
        "id": "SKeQ2OKEKPeM"
      },
      "outputs": [],
      "source": [
        "len(df)"
      ]
    },
    {
      "cell_type": "code",
      "execution_count": null,
      "metadata": {
        "id": "qt26NnKGKXjo"
      },
      "outputs": [],
      "source": [
        "df_topic_sents_keywords.reset_index(drop=True, inplace=True)"
      ]
    },
    {
      "cell_type": "code",
      "execution_count": null,
      "metadata": {
        "id": "gnVyn74wKckh"
      },
      "outputs": [],
      "source": [
        "df.reset_index(drop=True, inplace=True)"
      ]
    },
    {
      "cell_type": "code",
      "execution_count": null,
      "metadata": {
        "id": "jVqq63rxqcu4"
      },
      "outputs": [],
      "source": [
        "df_dominant_topic2 = pd.concat([df_topic_sents_keywords, df], axis=1)\n"
      ]
    },
    {
      "cell_type": "code",
      "source": [
        "df_dominant_topic2.to_excel('LDA_260123.xlsx')\n",
        "from google.colab import files\n",
        "files.download('LDA_260123.xlsx') "
      ],
      "metadata": {
        "id": "vbpizbJarV3R"
      },
      "execution_count": null,
      "outputs": []
    },
    {
      "cell_type": "code",
      "source": [
        "import pandas as pd\n",
        "\n",
        "data = [\n",
        "    (\"2 topics\", 0.00144013, 0.265599891),\n",
        "    (\"3 topics\", 0.001446888, 0.265076511),\n",
        "    (\"4 topics\", 0.001452994, 0.274322653),\n",
        "    (\"5 topics\", 0.001458299, 0.278441458),\n",
        "    (\"6 topics\", 0.00145521, 0.271681194),\n",
        "    (\"7 topics\", 0.001436363, 0.266922438)\n",
        "]\n",
        "\n",
        "df = pd.DataFrame(data, columns=[\"Number of topics\", \"Perplexity\", \"Coherence\"])\n"
      ],
      "metadata": {
        "id": "UpFMOcKIUCKk"
      },
      "execution_count": null,
      "outputs": []
    },
    {
      "cell_type": "code",
      "source": [
        "import matplotlib.pyplot as plt\n",
        "\n",
        "ax = df.plot(x='Number of topics', y='Perplexity', kind='bar', legend=False)\n",
        "plt.xlabel(\"Number of topics\")\n",
        "plt.ylabel(\"Perplexity\")\n",
        "\n",
        "for i in range(len(df)):\n",
        "    ax.text(i, df.Perplexity[i], round(df.Perplexity[i],4), ha='center', va='bottom')\n",
        "\n",
        "plt.show()\n"
      ],
      "metadata": {
        "id": "rXmhd-IWUH1m"
      },
      "execution_count": null,
      "outputs": []
    },
    {
      "cell_type": "code",
      "source": [
        "import matplotlib.pyplot as plt\n",
        "\n",
        "ax = df.plot(x='Number of topics', y='Coherence', kind='bar', legend=False)\n",
        "plt.xlabel(\"Number of topics\")\n",
        "plt.ylabel(\"Coherence\")\n",
        "\n",
        "for i in range(len(df)):\n",
        "    ax.text(i, df.Coherence[i], round(df.Coherence[i],4), ha='center', va='bottom')\n",
        "\n",
        "plt.show()\n"
      ],
      "metadata": {
        "id": "4dhmPJylUy5B"
      },
      "execution_count": null,
      "outputs": []
    }
  ],
  "metadata": {
    "colab": {
      "provenance": []
    },
    "kernelspec": {
      "display_name": "Python 3",
      "name": "python3"
    },
    "language_info": {
      "name": "python"
    }
  },
  "nbformat": 4,
  "nbformat_minor": 0
}